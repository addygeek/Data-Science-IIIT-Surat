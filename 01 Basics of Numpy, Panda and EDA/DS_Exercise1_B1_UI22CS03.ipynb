{
  "cells": [
    {
      "cell_type": "markdown",
      "metadata": {
        "id": "wlflY10E9bwQ"
      },
      "source": [
        "# **Excercise 1 by Aditya Kumar**\n"
      ]
    },
    {
      "cell_type": "markdown",
      "metadata": {
        "id": "SmFRtGoD9bwR"
      },
      "source": [
        "## Objectives\n"
      ]
    },
    {
      "cell_type": "markdown",
      "metadata": {
        "id": "oyESRLZ69bwR"
      },
      "source": [
        "-   Import Libraries\n",
        "-   Lab Exercises\n",
        "    -   Identifying duplicates\n",
        "    -   Plotting Scatterplots\n",
        "    \n"
      ]
    },
    {
      "cell_type": "markdown",
      "metadata": {
        "id": "KJbeOxzK9bwR"
      },
      "source": [
        "* * *\n"
      ]
    },
    {
      "cell_type": "markdown",
      "metadata": {
        "id": "8vccqrwF9bwS"
      },
      "source": [
        "## Import Libraries\n"
      ]
    },
    {
      "cell_type": "markdown",
      "metadata": {
        "id": "BFBtsIUW9bwS"
      },
      "source": [
        "Import the libraries we need\n"
      ]
    },
    {
      "cell_type": "code",
      "execution_count": 1,
      "metadata": {
        "id": "5Z1pfH779bwT"
      },
      "outputs": [],
      "source": [
        "import numpy as np\n",
        "import pandas as pd\n",
        "import matplotlib.pyplot as plt\n",
        "import seaborn as sns"
      ]
    },
    {
      "cell_type": "markdown",
      "metadata": {
        "id": "sI9Affxw9bwT"
      },
      "source": [
        "Read the csv file\n"
      ]
    },
    {
      "cell_type": "code",
      "execution_count": 3,
      "metadata": {
        "colab": {
          "base_uri": "https://localhost:8080/"
        },
        "id": "SnQaSlEA9bwT",
        "outputId": "d056bb4e-838d-41a0-ada2-9a549e528ca7"
      },
      "outputs": [
        {
          "name": "stdout",
          "output_type": "stream",
          "text": [
            "     rownames minority  age  gender credits    beauty  eval division native  \\\n",
            "0           1      yes   36  female    more  0.289916   4.3    upper    yes   \n",
            "1           2       no   59    male    more -0.737732   4.5    upper    yes   \n",
            "2           3       no   51    male    more -0.571984   3.7    upper    yes   \n",
            "3           4       no   40  female    more -0.677963   4.3    upper    yes   \n",
            "4           5       no   31  female    more  1.509794   4.4    upper    yes   \n",
            "..        ...      ...  ...     ...     ...       ...   ...      ...    ...   \n",
            "458       459       no   32    male    more  1.231394   3.2    lower    yes   \n",
            "459       460       no   32    male    more  1.231394   4.3    upper    yes   \n",
            "460       461      yes   42  female    more  0.420400   3.3    upper     no   \n",
            "461       462      yes   42  female    more  0.420400   3.2    upper     no   \n",
            "462       463      yes   42  female  single  0.420400   4.1    lower     no   \n",
            "\n",
            "    tenure  students  allstudents  prof  \n",
            "0      yes        24           43     1  \n",
            "1      yes        17           20     2  \n",
            "2      yes        55           55     3  \n",
            "3      yes        40           46     4  \n",
            "4      yes        42           48     5  \n",
            "..     ...       ...          ...   ...  \n",
            "458    yes         9           21    93  \n",
            "459    yes        52           86    93  \n",
            "460    yes        52           67    94  \n",
            "461    yes        54           66    94  \n",
            "462    yes        28           35    94  \n",
            "\n",
            "[463 rows x 13 columns]\n"
          ]
        }
      ],
      "source": [
        "data = pd.read_csv(\"TeachingRatings_ui22cs03.csv\")\n",
        "print(data)"
      ]
    },
    {
      "cell_type": "markdown",
      "metadata": {
        "id": "aZEueJ_k9bwT"
      },
      "source": [
        "## Display information about the dataset\n",
        "\n",
        "1.  Structure of the dataframe\n",
        "2.  Describe the dataset\n",
        "3.  Number of rows and columns"
      ]
    },
    {
      "cell_type": "code",
      "execution_count": 4,
      "metadata": {
        "colab": {
          "base_uri": "https://localhost:8080/"
        },
        "id": "ouD6ew4U9bwT",
        "outputId": "4b8d83d4-830c-497d-fb22-09cb4869bf75"
      },
      "outputs": [
        {
          "name": "stdout",
          "output_type": "stream",
          "text": [
            "<class 'pandas.core.frame.DataFrame'>\n",
            "RangeIndex: 463 entries, 0 to 462\n",
            "Data columns (total 13 columns):\n",
            " #   Column       Non-Null Count  Dtype  \n",
            "---  ------       --------------  -----  \n",
            " 0   rownames     463 non-null    int64  \n",
            " 1   minority     463 non-null    object \n",
            " 2   age          463 non-null    int64  \n",
            " 3   gender       463 non-null    object \n",
            " 4   credits      463 non-null    object \n",
            " 5   beauty       463 non-null    float64\n",
            " 6   eval         463 non-null    float64\n",
            " 7   division     463 non-null    object \n",
            " 8   native       463 non-null    object \n",
            " 9   tenure       463 non-null    object \n",
            " 10  students     463 non-null    int64  \n",
            " 11  allstudents  463 non-null    int64  \n",
            " 12  prof         463 non-null    int64  \n",
            "dtypes: float64(2), int64(5), object(6)\n",
            "memory usage: 47.1+ KB\n",
            "None\n",
            "         rownames         age        beauty        eval    students  \\\n",
            "count  463.000000  463.000000  4.630000e+02  463.000000  463.000000   \n",
            "mean   232.000000   48.365011  6.263499e-08    3.998272   36.624190   \n",
            "std    133.800847    9.802742  7.886477e-01    0.554866   45.018481   \n",
            "min      1.000000   29.000000 -1.450494e+00    2.100000    5.000000   \n",
            "25%    116.500000   42.000000 -6.562689e-01    3.600000   15.000000   \n",
            "50%    232.000000   48.000000 -6.801430e-02    4.000000   23.000000   \n",
            "75%    347.500000   57.000000  5.456024e-01    4.400000   40.000000   \n",
            "max    463.000000   73.000000  1.970023e+00    5.000000  380.000000   \n",
            "\n",
            "       allstudents        prof  \n",
            "count   463.000000  463.000000  \n",
            "mean     55.177106   45.434125  \n",
            "std      75.072800   27.508902  \n",
            "min       8.000000    1.000000  \n",
            "25%      19.000000   20.000000  \n",
            "50%      29.000000   44.000000  \n",
            "75%      60.000000   70.500000  \n",
            "max     581.000000   94.000000  \n",
            "Number of rows and columns: (463, 13)\n"
          ]
        }
      ],
      "source": [
        "# 1. Structure of the dataframe\n",
        "print(data.info())"
      ]
    },
    {
      "cell_type": "code",
      "execution_count": 5,
      "metadata": {
        "colab": {
          "base_uri": "https://localhost:8080/"
        },
        "id": "1m6UHyp6-FCa",
        "outputId": "11f2aa3b-3228-43d5-acd0-6ca8c89b32cd"
      },
      "outputs": [
        {
          "name": "stdout",
          "output_type": "stream",
          "text": [
            "         rownames         age        beauty        eval    students  \\\n",
            "count  463.000000  463.000000  4.630000e+02  463.000000  463.000000   \n",
            "mean   232.000000   48.365011  6.263499e-08    3.998272   36.624190   \n",
            "std    133.800847    9.802742  7.886477e-01    0.554866   45.018481   \n",
            "min      1.000000   29.000000 -1.450494e+00    2.100000    5.000000   \n",
            "25%    116.500000   42.000000 -6.562689e-01    3.600000   15.000000   \n",
            "50%    232.000000   48.000000 -6.801430e-02    4.000000   23.000000   \n",
            "75%    347.500000   57.000000  5.456024e-01    4.400000   40.000000   \n",
            "max    463.000000   73.000000  1.970023e+00    5.000000  380.000000   \n",
            "\n",
            "       allstudents        prof  \n",
            "count   463.000000  463.000000  \n",
            "mean     55.177106   45.434125  \n",
            "std      75.072800   27.508902  \n",
            "min       8.000000    1.000000  \n",
            "25%      19.000000   20.000000  \n",
            "50%      29.000000   44.000000  \n",
            "75%      60.000000   70.500000  \n",
            "max     581.000000   94.000000  \n"
          ]
        }
      ],
      "source": [
        "# 2. Describe the dataset\n",
        "print(data.describe())"
      ]
    },
    {
      "cell_type": "code",
      "execution_count": 6,
      "metadata": {
        "colab": {
          "base_uri": "https://localhost:8080/"
        },
        "id": "DyFz6jz9-JTg",
        "outputId": "7e1dde53-41c5-42f3-9b49-e2978cd4f6a5"
      },
      "outputs": [
        {
          "name": "stdout",
          "output_type": "stream",
          "text": [
            "Number of rows and columns: (463, 13)\n"
          ]
        }
      ],
      "source": [
        "# 3. Number of rows and columns\n",
        "print(\"Number of rows and columns:\", data.shape)"
      ]
    },
    {
      "cell_type": "code",
      "execution_count": 7,
      "metadata": {
        "colab": {
          "base_uri": "https://localhost:8080/",
          "height": 206
        },
        "id": "f5Chq-AF-MFY",
        "outputId": "d4aa79a3-ce04-40ef-84e1-3fa39a70fc39"
      },
      "outputs": [
        {
          "data": {
            "application/vnd.google.colaboratory.intrinsic+json": {
              "summary": "{\n  \"name\": \"data\",\n  \"rows\": 463,\n  \"fields\": [\n    {\n      \"column\": \"rownames\",\n      \"properties\": {\n        \"dtype\": \"number\",\n        \"std\": 133,\n        \"min\": 1,\n        \"max\": 463,\n        \"num_unique_values\": 463,\n        \"samples\": [\n          226,\n          31,\n          40\n        ],\n        \"semantic_type\": \"\",\n        \"description\": \"\"\n      }\n    },\n    {\n      \"column\": \"minority\",\n      \"properties\": {\n        \"dtype\": \"category\",\n        \"num_unique_values\": 2,\n        \"samples\": [\n          \"no\",\n          \"yes\"\n        ],\n        \"semantic_type\": \"\",\n        \"description\": \"\"\n      }\n    },\n    {\n      \"column\": \"age\",\n      \"properties\": {\n        \"dtype\": \"number\",\n        \"std\": 9,\n        \"min\": 29,\n        \"max\": 73,\n        \"num_unique_values\": 35,\n        \"samples\": [\n          39,\n          56\n        ],\n        \"semantic_type\": \"\",\n        \"description\": \"\"\n      }\n    },\n    {\n      \"column\": \"gender\",\n      \"properties\": {\n        \"dtype\": \"category\",\n        \"num_unique_values\": 2,\n        \"samples\": [\n          \"male\",\n          \"female\"\n        ],\n        \"semantic_type\": \"\",\n        \"description\": \"\"\n      }\n    },\n    {\n      \"column\": \"credits\",\n      \"properties\": {\n        \"dtype\": \"category\",\n        \"num_unique_values\": 2,\n        \"samples\": [\n          \"single\",\n          \"more\"\n        ],\n        \"semantic_type\": \"\",\n        \"description\": \"\"\n      }\n    },\n    {\n      \"column\": \"beauty\",\n      \"properties\": {\n        \"dtype\": \"number\",\n        \"std\": 0.7886476673278039,\n        \"min\": -1.450494,\n        \"max\": 1.970023,\n        \"num_unique_values\": 94,\n        \"samples\": [\n          -0.2377786,\n          -0.7330914\n        ],\n        \"semantic_type\": \"\",\n        \"description\": \"\"\n      }\n    },\n    {\n      \"column\": \"eval\",\n      \"properties\": {\n        \"dtype\": \"number\",\n        \"std\": 0.5548655656195951,\n        \"min\": 2.1,\n        \"max\": 5.0,\n        \"num_unique_values\": 29,\n        \"samples\": [\n          2.8,\n          4.1\n        ],\n        \"semantic_type\": \"\",\n        \"description\": \"\"\n      }\n    },\n    {\n      \"column\": \"division\",\n      \"properties\": {\n        \"dtype\": \"category\",\n        \"num_unique_values\": 2,\n        \"samples\": [\n          \"lower\",\n          \"upper\"\n        ],\n        \"semantic_type\": \"\",\n        \"description\": \"\"\n      }\n    },\n    {\n      \"column\": \"native\",\n      \"properties\": {\n        \"dtype\": \"category\",\n        \"num_unique_values\": 2,\n        \"samples\": [\n          \"no\",\n          \"yes\"\n        ],\n        \"semantic_type\": \"\",\n        \"description\": \"\"\n      }\n    },\n    {\n      \"column\": \"tenure\",\n      \"properties\": {\n        \"dtype\": \"category\",\n        \"num_unique_values\": 2,\n        \"samples\": [\n          \"no\",\n          \"yes\"\n        ],\n        \"semantic_type\": \"\",\n        \"description\": \"\"\n      }\n    },\n    {\n      \"column\": \"students\",\n      \"properties\": {\n        \"dtype\": \"number\",\n        \"std\": 45,\n        \"min\": 5,\n        \"max\": 380,\n        \"num_unique_values\": 104,\n        \"samples\": [\n          46,\n          65\n        ],\n        \"semantic_type\": \"\",\n        \"description\": \"\"\n      }\n    },\n    {\n      \"column\": \"allstudents\",\n      \"properties\": {\n        \"dtype\": \"number\",\n        \"std\": 75,\n        \"min\": 8,\n        \"max\": 581,\n        \"num_unique_values\": 127,\n        \"samples\": [\n          15,\n          100\n        ],\n        \"semantic_type\": \"\",\n        \"description\": \"\"\n      }\n    },\n    {\n      \"column\": \"prof\",\n      \"properties\": {\n        \"dtype\": \"number\",\n        \"std\": 27,\n        \"min\": 1,\n        \"max\": 94,\n        \"num_unique_values\": 94,\n        \"samples\": [\n          41,\n          23\n        ],\n        \"semantic_type\": \"\",\n        \"description\": \"\"\n      }\n    }\n  ]\n}",
              "type": "dataframe",
              "variable_name": "data"
            },
            "text/html": [
              "\n",
              "  <div id=\"df-a648d70e-5251-47f4-9c25-707b131b1fd2\" class=\"colab-df-container\">\n",
              "    <div>\n",
              "<style scoped>\n",
              "    .dataframe tbody tr th:only-of-type {\n",
              "        vertical-align: middle;\n",
              "    }\n",
              "\n",
              "    .dataframe tbody tr th {\n",
              "        vertical-align: top;\n",
              "    }\n",
              "\n",
              "    .dataframe thead th {\n",
              "        text-align: right;\n",
              "    }\n",
              "</style>\n",
              "<table border=\"1\" class=\"dataframe\">\n",
              "  <thead>\n",
              "    <tr style=\"text-align: right;\">\n",
              "      <th></th>\n",
              "      <th>rownames</th>\n",
              "      <th>minority</th>\n",
              "      <th>age</th>\n",
              "      <th>gender</th>\n",
              "      <th>credits</th>\n",
              "      <th>beauty</th>\n",
              "      <th>eval</th>\n",
              "      <th>division</th>\n",
              "      <th>native</th>\n",
              "      <th>tenure</th>\n",
              "      <th>students</th>\n",
              "      <th>allstudents</th>\n",
              "      <th>prof</th>\n",
              "    </tr>\n",
              "  </thead>\n",
              "  <tbody>\n",
              "    <tr>\n",
              "      <th>0</th>\n",
              "      <td>1</td>\n",
              "      <td>yes</td>\n",
              "      <td>36</td>\n",
              "      <td>female</td>\n",
              "      <td>more</td>\n",
              "      <td>0.289916</td>\n",
              "      <td>4.3</td>\n",
              "      <td>upper</td>\n",
              "      <td>yes</td>\n",
              "      <td>yes</td>\n",
              "      <td>24</td>\n",
              "      <td>43</td>\n",
              "      <td>1</td>\n",
              "    </tr>\n",
              "    <tr>\n",
              "      <th>1</th>\n",
              "      <td>2</td>\n",
              "      <td>no</td>\n",
              "      <td>59</td>\n",
              "      <td>male</td>\n",
              "      <td>more</td>\n",
              "      <td>-0.737732</td>\n",
              "      <td>4.5</td>\n",
              "      <td>upper</td>\n",
              "      <td>yes</td>\n",
              "      <td>yes</td>\n",
              "      <td>17</td>\n",
              "      <td>20</td>\n",
              "      <td>2</td>\n",
              "    </tr>\n",
              "    <tr>\n",
              "      <th>2</th>\n",
              "      <td>3</td>\n",
              "      <td>no</td>\n",
              "      <td>51</td>\n",
              "      <td>male</td>\n",
              "      <td>more</td>\n",
              "      <td>-0.571984</td>\n",
              "      <td>3.7</td>\n",
              "      <td>upper</td>\n",
              "      <td>yes</td>\n",
              "      <td>yes</td>\n",
              "      <td>55</td>\n",
              "      <td>55</td>\n",
              "      <td>3</td>\n",
              "    </tr>\n",
              "    <tr>\n",
              "      <th>3</th>\n",
              "      <td>4</td>\n",
              "      <td>no</td>\n",
              "      <td>40</td>\n",
              "      <td>female</td>\n",
              "      <td>more</td>\n",
              "      <td>-0.677963</td>\n",
              "      <td>4.3</td>\n",
              "      <td>upper</td>\n",
              "      <td>yes</td>\n",
              "      <td>yes</td>\n",
              "      <td>40</td>\n",
              "      <td>46</td>\n",
              "      <td>4</td>\n",
              "    </tr>\n",
              "    <tr>\n",
              "      <th>4</th>\n",
              "      <td>5</td>\n",
              "      <td>no</td>\n",
              "      <td>31</td>\n",
              "      <td>female</td>\n",
              "      <td>more</td>\n",
              "      <td>1.509794</td>\n",
              "      <td>4.4</td>\n",
              "      <td>upper</td>\n",
              "      <td>yes</td>\n",
              "      <td>yes</td>\n",
              "      <td>42</td>\n",
              "      <td>48</td>\n",
              "      <td>5</td>\n",
              "    </tr>\n",
              "  </tbody>\n",
              "</table>\n",
              "</div>\n",
              "    <div class=\"colab-df-buttons\">\n",
              "\n",
              "  <div class=\"colab-df-container\">\n",
              "    <button class=\"colab-df-convert\" onclick=\"convertToInteractive('df-a648d70e-5251-47f4-9c25-707b131b1fd2')\"\n",
              "            title=\"Convert this dataframe to an interactive table.\"\n",
              "            style=\"display:none;\">\n",
              "\n",
              "  <svg xmlns=\"http://www.w3.org/2000/svg\" height=\"24px\" viewBox=\"0 -960 960 960\">\n",
              "    <path d=\"M120-120v-720h720v720H120Zm60-500h600v-160H180v160Zm220 220h160v-160H400v160Zm0 220h160v-160H400v160ZM180-400h160v-160H180v160Zm440 0h160v-160H620v160ZM180-180h160v-160H180v160Zm440 0h160v-160H620v160Z\"/>\n",
              "  </svg>\n",
              "    </button>\n",
              "\n",
              "  <style>\n",
              "    .colab-df-container {\n",
              "      display:flex;\n",
              "      gap: 12px;\n",
              "    }\n",
              "\n",
              "    .colab-df-convert {\n",
              "      background-color: #E8F0FE;\n",
              "      border: none;\n",
              "      border-radius: 50%;\n",
              "      cursor: pointer;\n",
              "      display: none;\n",
              "      fill: #1967D2;\n",
              "      height: 32px;\n",
              "      padding: 0 0 0 0;\n",
              "      width: 32px;\n",
              "    }\n",
              "\n",
              "    .colab-df-convert:hover {\n",
              "      background-color: #E2EBFA;\n",
              "      box-shadow: 0px 1px 2px rgba(60, 64, 67, 0.3), 0px 1px 3px 1px rgba(60, 64, 67, 0.15);\n",
              "      fill: #174EA6;\n",
              "    }\n",
              "\n",
              "    .colab-df-buttons div {\n",
              "      margin-bottom: 4px;\n",
              "    }\n",
              "\n",
              "    [theme=dark] .colab-df-convert {\n",
              "      background-color: #3B4455;\n",
              "      fill: #D2E3FC;\n",
              "    }\n",
              "\n",
              "    [theme=dark] .colab-df-convert:hover {\n",
              "      background-color: #434B5C;\n",
              "      box-shadow: 0px 1px 3px 1px rgba(0, 0, 0, 0.15);\n",
              "      filter: drop-shadow(0px 1px 2px rgba(0, 0, 0, 0.3));\n",
              "      fill: #FFFFFF;\n",
              "    }\n",
              "  </style>\n",
              "\n",
              "    <script>\n",
              "      const buttonEl =\n",
              "        document.querySelector('#df-a648d70e-5251-47f4-9c25-707b131b1fd2 button.colab-df-convert');\n",
              "      buttonEl.style.display =\n",
              "        google.colab.kernel.accessAllowed ? 'block' : 'none';\n",
              "\n",
              "      async function convertToInteractive(key) {\n",
              "        const element = document.querySelector('#df-a648d70e-5251-47f4-9c25-707b131b1fd2');\n",
              "        const dataTable =\n",
              "          await google.colab.kernel.invokeFunction('convertToInteractive',\n",
              "                                                    [key], {});\n",
              "        if (!dataTable) return;\n",
              "\n",
              "        const docLinkHtml = 'Like what you see? Visit the ' +\n",
              "          '<a target=\"_blank\" href=https://colab.research.google.com/notebooks/data_table.ipynb>data table notebook</a>'\n",
              "          + ' to learn more about interactive tables.';\n",
              "        element.innerHTML = '';\n",
              "        dataTable['output_type'] = 'display_data';\n",
              "        await google.colab.output.renderOutput(dataTable, element);\n",
              "        const docLink = document.createElement('div');\n",
              "        docLink.innerHTML = docLinkHtml;\n",
              "        element.appendChild(docLink);\n",
              "      }\n",
              "    </script>\n",
              "  </div>\n",
              "\n",
              "\n",
              "<div id=\"df-2c9b1f95-a696-4ac4-9b57-c7ec381abaf5\">\n",
              "  <button class=\"colab-df-quickchart\" onclick=\"quickchart('df-2c9b1f95-a696-4ac4-9b57-c7ec381abaf5')\"\n",
              "            title=\"Suggest charts\"\n",
              "            style=\"display:none;\">\n",
              "\n",
              "<svg xmlns=\"http://www.w3.org/2000/svg\" height=\"24px\"viewBox=\"0 0 24 24\"\n",
              "     width=\"24px\">\n",
              "    <g>\n",
              "        <path d=\"M19 3H5c-1.1 0-2 .9-2 2v14c0 1.1.9 2 2 2h14c1.1 0 2-.9 2-2V5c0-1.1-.9-2-2-2zM9 17H7v-7h2v7zm4 0h-2V7h2v10zm4 0h-2v-4h2v4z\"/>\n",
              "    </g>\n",
              "</svg>\n",
              "  </button>\n",
              "\n",
              "<style>\n",
              "  .colab-df-quickchart {\n",
              "      --bg-color: #E8F0FE;\n",
              "      --fill-color: #1967D2;\n",
              "      --hover-bg-color: #E2EBFA;\n",
              "      --hover-fill-color: #174EA6;\n",
              "      --disabled-fill-color: #AAA;\n",
              "      --disabled-bg-color: #DDD;\n",
              "  }\n",
              "\n",
              "  [theme=dark] .colab-df-quickchart {\n",
              "      --bg-color: #3B4455;\n",
              "      --fill-color: #D2E3FC;\n",
              "      --hover-bg-color: #434B5C;\n",
              "      --hover-fill-color: #FFFFFF;\n",
              "      --disabled-bg-color: #3B4455;\n",
              "      --disabled-fill-color: #666;\n",
              "  }\n",
              "\n",
              "  .colab-df-quickchart {\n",
              "    background-color: var(--bg-color);\n",
              "    border: none;\n",
              "    border-radius: 50%;\n",
              "    cursor: pointer;\n",
              "    display: none;\n",
              "    fill: var(--fill-color);\n",
              "    height: 32px;\n",
              "    padding: 0;\n",
              "    width: 32px;\n",
              "  }\n",
              "\n",
              "  .colab-df-quickchart:hover {\n",
              "    background-color: var(--hover-bg-color);\n",
              "    box-shadow: 0 1px 2px rgba(60, 64, 67, 0.3), 0 1px 3px 1px rgba(60, 64, 67, 0.15);\n",
              "    fill: var(--button-hover-fill-color);\n",
              "  }\n",
              "\n",
              "  .colab-df-quickchart-complete:disabled,\n",
              "  .colab-df-quickchart-complete:disabled:hover {\n",
              "    background-color: var(--disabled-bg-color);\n",
              "    fill: var(--disabled-fill-color);\n",
              "    box-shadow: none;\n",
              "  }\n",
              "\n",
              "  .colab-df-spinner {\n",
              "    border: 2px solid var(--fill-color);\n",
              "    border-color: transparent;\n",
              "    border-bottom-color: var(--fill-color);\n",
              "    animation:\n",
              "      spin 1s steps(1) infinite;\n",
              "  }\n",
              "\n",
              "  @keyframes spin {\n",
              "    0% {\n",
              "      border-color: transparent;\n",
              "      border-bottom-color: var(--fill-color);\n",
              "      border-left-color: var(--fill-color);\n",
              "    }\n",
              "    20% {\n",
              "      border-color: transparent;\n",
              "      border-left-color: var(--fill-color);\n",
              "      border-top-color: var(--fill-color);\n",
              "    }\n",
              "    30% {\n",
              "      border-color: transparent;\n",
              "      border-left-color: var(--fill-color);\n",
              "      border-top-color: var(--fill-color);\n",
              "      border-right-color: var(--fill-color);\n",
              "    }\n",
              "    40% {\n",
              "      border-color: transparent;\n",
              "      border-right-color: var(--fill-color);\n",
              "      border-top-color: var(--fill-color);\n",
              "    }\n",
              "    60% {\n",
              "      border-color: transparent;\n",
              "      border-right-color: var(--fill-color);\n",
              "    }\n",
              "    80% {\n",
              "      border-color: transparent;\n",
              "      border-right-color: var(--fill-color);\n",
              "      border-bottom-color: var(--fill-color);\n",
              "    }\n",
              "    90% {\n",
              "      border-color: transparent;\n",
              "      border-bottom-color: var(--fill-color);\n",
              "    }\n",
              "  }\n",
              "</style>\n",
              "\n",
              "  <script>\n",
              "    async function quickchart(key) {\n",
              "      const quickchartButtonEl =\n",
              "        document.querySelector('#' + key + ' button');\n",
              "      quickchartButtonEl.disabled = true;  // To prevent multiple clicks.\n",
              "      quickchartButtonEl.classList.add('colab-df-spinner');\n",
              "      try {\n",
              "        const charts = await google.colab.kernel.invokeFunction(\n",
              "            'suggestCharts', [key], {});\n",
              "      } catch (error) {\n",
              "        console.error('Error during call to suggestCharts:', error);\n",
              "      }\n",
              "      quickchartButtonEl.classList.remove('colab-df-spinner');\n",
              "      quickchartButtonEl.classList.add('colab-df-quickchart-complete');\n",
              "    }\n",
              "    (() => {\n",
              "      let quickchartButtonEl =\n",
              "        document.querySelector('#df-2c9b1f95-a696-4ac4-9b57-c7ec381abaf5 button');\n",
              "      quickchartButtonEl.style.display =\n",
              "        google.colab.kernel.accessAllowed ? 'block' : 'none';\n",
              "    })();\n",
              "  </script>\n",
              "</div>\n",
              "\n",
              "    </div>\n",
              "  </div>\n"
            ],
            "text/plain": [
              "   rownames minority  age  gender credits    beauty  eval division native  \\\n",
              "0         1      yes   36  female    more  0.289916   4.3    upper    yes   \n",
              "1         2       no   59    male    more -0.737732   4.5    upper    yes   \n",
              "2         3       no   51    male    more -0.571984   3.7    upper    yes   \n",
              "3         4       no   40  female    more -0.677963   4.3    upper    yes   \n",
              "4         5       no   31  female    more  1.509794   4.4    upper    yes   \n",
              "\n",
              "  tenure  students  allstudents  prof  \n",
              "0    yes        24           43     1  \n",
              "1    yes        17           20     2  \n",
              "2    yes        55           55     3  \n",
              "3    yes        40           46     4  \n",
              "4    yes        42           48     5  "
            ]
          },
          "execution_count": 7,
          "metadata": {},
          "output_type": "execute_result"
        }
      ],
      "source": [
        "#Head Preview of data : Head means the first 5 datas\n",
        "data.head()"
      ]
    },
    {
      "cell_type": "code",
      "execution_count": 8,
      "metadata": {
        "colab": {
          "base_uri": "https://localhost:8080/",
          "height": 206
        },
        "id": "ivf85998-RXQ",
        "outputId": "56b562cb-3ed2-4753-f693-30fdfc9132f4"
      },
      "outputs": [
        {
          "data": {
            "application/vnd.google.colaboratory.intrinsic+json": {
              "summary": "{\n  \"name\": \"data\",\n  \"rows\": 5,\n  \"fields\": [\n    {\n      \"column\": \"rownames\",\n      \"properties\": {\n        \"dtype\": \"number\",\n        \"std\": 1,\n        \"min\": 459,\n        \"max\": 463,\n        \"num_unique_values\": 5,\n        \"samples\": [\n          460,\n          463,\n          461\n        ],\n        \"semantic_type\": \"\",\n        \"description\": \"\"\n      }\n    },\n    {\n      \"column\": \"minority\",\n      \"properties\": {\n        \"dtype\": \"category\",\n        \"num_unique_values\": 2,\n        \"samples\": [\n          \"yes\",\n          \"no\"\n        ],\n        \"semantic_type\": \"\",\n        \"description\": \"\"\n      }\n    },\n    {\n      \"column\": \"age\",\n      \"properties\": {\n        \"dtype\": \"number\",\n        \"std\": 5,\n        \"min\": 32,\n        \"max\": 42,\n        \"num_unique_values\": 2,\n        \"samples\": [\n          42,\n          32\n        ],\n        \"semantic_type\": \"\",\n        \"description\": \"\"\n      }\n    },\n    {\n      \"column\": \"gender\",\n      \"properties\": {\n        \"dtype\": \"category\",\n        \"num_unique_values\": 2,\n        \"samples\": [\n          \"female\",\n          \"male\"\n        ],\n        \"semantic_type\": \"\",\n        \"description\": \"\"\n      }\n    },\n    {\n      \"column\": \"credits\",\n      \"properties\": {\n        \"dtype\": \"category\",\n        \"num_unique_values\": 2,\n        \"samples\": [\n          \"single\",\n          \"more\"\n        ],\n        \"semantic_type\": \"\",\n        \"description\": \"\"\n      }\n    },\n    {\n      \"column\": \"beauty\",\n      \"properties\": {\n        \"dtype\": \"number\",\n        \"std\": 0.4441998173458563,\n        \"min\": 0.4203998,\n        \"max\": 1.231394,\n        \"num_unique_values\": 2,\n        \"samples\": [\n          0.4203998,\n          1.231394\n        ],\n        \"semantic_type\": \"\",\n        \"description\": \"\"\n      }\n    },\n    {\n      \"column\": \"eval\",\n      \"properties\": {\n        \"dtype\": \"number\",\n        \"std\": 0.5357238094391548,\n        \"min\": 3.2,\n        \"max\": 4.3,\n        \"num_unique_values\": 4,\n        \"samples\": [\n          4.3,\n          4.1\n        ],\n        \"semantic_type\": \"\",\n        \"description\": \"\"\n      }\n    },\n    {\n      \"column\": \"division\",\n      \"properties\": {\n        \"dtype\": \"category\",\n        \"num_unique_values\": 2,\n        \"samples\": [\n          \"upper\",\n          \"lower\"\n        ],\n        \"semantic_type\": \"\",\n        \"description\": \"\"\n      }\n    },\n    {\n      \"column\": \"native\",\n      \"properties\": {\n        \"dtype\": \"category\",\n        \"num_unique_values\": 2,\n        \"samples\": [\n          \"no\",\n          \"yes\"\n        ],\n        \"semantic_type\": \"\",\n        \"description\": \"\"\n      }\n    },\n    {\n      \"column\": \"tenure\",\n      \"properties\": {\n        \"dtype\": \"category\",\n        \"num_unique_values\": 1,\n        \"samples\": [\n          \"yes\"\n        ],\n        \"semantic_type\": \"\",\n        \"description\": \"\"\n      }\n    },\n    {\n      \"column\": \"students\",\n      \"properties\": {\n        \"dtype\": \"number\",\n        \"std\": 19,\n        \"min\": 9,\n        \"max\": 54,\n        \"num_unique_values\": 4,\n        \"samples\": [\n          52\n        ],\n        \"semantic_type\": \"\",\n        \"description\": \"\"\n      }\n    },\n    {\n      \"column\": \"allstudents\",\n      \"properties\": {\n        \"dtype\": \"number\",\n        \"std\": 26,\n        \"min\": 21,\n        \"max\": 86,\n        \"num_unique_values\": 5,\n        \"samples\": [\n          86\n        ],\n        \"semantic_type\": \"\",\n        \"description\": \"\"\n      }\n    },\n    {\n      \"column\": \"prof\",\n      \"properties\": {\n        \"dtype\": \"number\",\n        \"std\": 0,\n        \"min\": 93,\n        \"max\": 94,\n        \"num_unique_values\": 2,\n        \"samples\": [\n          94\n        ],\n        \"semantic_type\": \"\",\n        \"description\": \"\"\n      }\n    }\n  ]\n}",
              "type": "dataframe"
            },
            "text/html": [
              "\n",
              "  <div id=\"df-4e45f646-19aa-4afc-bb78-517adb718a0a\" class=\"colab-df-container\">\n",
              "    <div>\n",
              "<style scoped>\n",
              "    .dataframe tbody tr th:only-of-type {\n",
              "        vertical-align: middle;\n",
              "    }\n",
              "\n",
              "    .dataframe tbody tr th {\n",
              "        vertical-align: top;\n",
              "    }\n",
              "\n",
              "    .dataframe thead th {\n",
              "        text-align: right;\n",
              "    }\n",
              "</style>\n",
              "<table border=\"1\" class=\"dataframe\">\n",
              "  <thead>\n",
              "    <tr style=\"text-align: right;\">\n",
              "      <th></th>\n",
              "      <th>rownames</th>\n",
              "      <th>minority</th>\n",
              "      <th>age</th>\n",
              "      <th>gender</th>\n",
              "      <th>credits</th>\n",
              "      <th>beauty</th>\n",
              "      <th>eval</th>\n",
              "      <th>division</th>\n",
              "      <th>native</th>\n",
              "      <th>tenure</th>\n",
              "      <th>students</th>\n",
              "      <th>allstudents</th>\n",
              "      <th>prof</th>\n",
              "    </tr>\n",
              "  </thead>\n",
              "  <tbody>\n",
              "    <tr>\n",
              "      <th>458</th>\n",
              "      <td>459</td>\n",
              "      <td>no</td>\n",
              "      <td>32</td>\n",
              "      <td>male</td>\n",
              "      <td>more</td>\n",
              "      <td>1.231394</td>\n",
              "      <td>3.2</td>\n",
              "      <td>lower</td>\n",
              "      <td>yes</td>\n",
              "      <td>yes</td>\n",
              "      <td>9</td>\n",
              "      <td>21</td>\n",
              "      <td>93</td>\n",
              "    </tr>\n",
              "    <tr>\n",
              "      <th>459</th>\n",
              "      <td>460</td>\n",
              "      <td>no</td>\n",
              "      <td>32</td>\n",
              "      <td>male</td>\n",
              "      <td>more</td>\n",
              "      <td>1.231394</td>\n",
              "      <td>4.3</td>\n",
              "      <td>upper</td>\n",
              "      <td>yes</td>\n",
              "      <td>yes</td>\n",
              "      <td>52</td>\n",
              "      <td>86</td>\n",
              "      <td>93</td>\n",
              "    </tr>\n",
              "    <tr>\n",
              "      <th>460</th>\n",
              "      <td>461</td>\n",
              "      <td>yes</td>\n",
              "      <td>42</td>\n",
              "      <td>female</td>\n",
              "      <td>more</td>\n",
              "      <td>0.420400</td>\n",
              "      <td>3.3</td>\n",
              "      <td>upper</td>\n",
              "      <td>no</td>\n",
              "      <td>yes</td>\n",
              "      <td>52</td>\n",
              "      <td>67</td>\n",
              "      <td>94</td>\n",
              "    </tr>\n",
              "    <tr>\n",
              "      <th>461</th>\n",
              "      <td>462</td>\n",
              "      <td>yes</td>\n",
              "      <td>42</td>\n",
              "      <td>female</td>\n",
              "      <td>more</td>\n",
              "      <td>0.420400</td>\n",
              "      <td>3.2</td>\n",
              "      <td>upper</td>\n",
              "      <td>no</td>\n",
              "      <td>yes</td>\n",
              "      <td>54</td>\n",
              "      <td>66</td>\n",
              "      <td>94</td>\n",
              "    </tr>\n",
              "    <tr>\n",
              "      <th>462</th>\n",
              "      <td>463</td>\n",
              "      <td>yes</td>\n",
              "      <td>42</td>\n",
              "      <td>female</td>\n",
              "      <td>single</td>\n",
              "      <td>0.420400</td>\n",
              "      <td>4.1</td>\n",
              "      <td>lower</td>\n",
              "      <td>no</td>\n",
              "      <td>yes</td>\n",
              "      <td>28</td>\n",
              "      <td>35</td>\n",
              "      <td>94</td>\n",
              "    </tr>\n",
              "  </tbody>\n",
              "</table>\n",
              "</div>\n",
              "    <div class=\"colab-df-buttons\">\n",
              "\n",
              "  <div class=\"colab-df-container\">\n",
              "    <button class=\"colab-df-convert\" onclick=\"convertToInteractive('df-4e45f646-19aa-4afc-bb78-517adb718a0a')\"\n",
              "            title=\"Convert this dataframe to an interactive table.\"\n",
              "            style=\"display:none;\">\n",
              "\n",
              "  <svg xmlns=\"http://www.w3.org/2000/svg\" height=\"24px\" viewBox=\"0 -960 960 960\">\n",
              "    <path d=\"M120-120v-720h720v720H120Zm60-500h600v-160H180v160Zm220 220h160v-160H400v160Zm0 220h160v-160H400v160ZM180-400h160v-160H180v160Zm440 0h160v-160H620v160ZM180-180h160v-160H180v160Zm440 0h160v-160H620v160Z\"/>\n",
              "  </svg>\n",
              "    </button>\n",
              "\n",
              "  <style>\n",
              "    .colab-df-container {\n",
              "      display:flex;\n",
              "      gap: 12px;\n",
              "    }\n",
              "\n",
              "    .colab-df-convert {\n",
              "      background-color: #E8F0FE;\n",
              "      border: none;\n",
              "      border-radius: 50%;\n",
              "      cursor: pointer;\n",
              "      display: none;\n",
              "      fill: #1967D2;\n",
              "      height: 32px;\n",
              "      padding: 0 0 0 0;\n",
              "      width: 32px;\n",
              "    }\n",
              "\n",
              "    .colab-df-convert:hover {\n",
              "      background-color: #E2EBFA;\n",
              "      box-shadow: 0px 1px 2px rgba(60, 64, 67, 0.3), 0px 1px 3px 1px rgba(60, 64, 67, 0.15);\n",
              "      fill: #174EA6;\n",
              "    }\n",
              "\n",
              "    .colab-df-buttons div {\n",
              "      margin-bottom: 4px;\n",
              "    }\n",
              "\n",
              "    [theme=dark] .colab-df-convert {\n",
              "      background-color: #3B4455;\n",
              "      fill: #D2E3FC;\n",
              "    }\n",
              "\n",
              "    [theme=dark] .colab-df-convert:hover {\n",
              "      background-color: #434B5C;\n",
              "      box-shadow: 0px 1px 3px 1px rgba(0, 0, 0, 0.15);\n",
              "      filter: drop-shadow(0px 1px 2px rgba(0, 0, 0, 0.3));\n",
              "      fill: #FFFFFF;\n",
              "    }\n",
              "  </style>\n",
              "\n",
              "    <script>\n",
              "      const buttonEl =\n",
              "        document.querySelector('#df-4e45f646-19aa-4afc-bb78-517adb718a0a button.colab-df-convert');\n",
              "      buttonEl.style.display =\n",
              "        google.colab.kernel.accessAllowed ? 'block' : 'none';\n",
              "\n",
              "      async function convertToInteractive(key) {\n",
              "        const element = document.querySelector('#df-4e45f646-19aa-4afc-bb78-517adb718a0a');\n",
              "        const dataTable =\n",
              "          await google.colab.kernel.invokeFunction('convertToInteractive',\n",
              "                                                    [key], {});\n",
              "        if (!dataTable) return;\n",
              "\n",
              "        const docLinkHtml = 'Like what you see? Visit the ' +\n",
              "          '<a target=\"_blank\" href=https://colab.research.google.com/notebooks/data_table.ipynb>data table notebook</a>'\n",
              "          + ' to learn more about interactive tables.';\n",
              "        element.innerHTML = '';\n",
              "        dataTable['output_type'] = 'display_data';\n",
              "        await google.colab.output.renderOutput(dataTable, element);\n",
              "        const docLink = document.createElement('div');\n",
              "        docLink.innerHTML = docLinkHtml;\n",
              "        element.appendChild(docLink);\n",
              "      }\n",
              "    </script>\n",
              "  </div>\n",
              "\n",
              "\n",
              "<div id=\"df-68407f2c-ce6c-4b0f-b1b5-1c0480b17218\">\n",
              "  <button class=\"colab-df-quickchart\" onclick=\"quickchart('df-68407f2c-ce6c-4b0f-b1b5-1c0480b17218')\"\n",
              "            title=\"Suggest charts\"\n",
              "            style=\"display:none;\">\n",
              "\n",
              "<svg xmlns=\"http://www.w3.org/2000/svg\" height=\"24px\"viewBox=\"0 0 24 24\"\n",
              "     width=\"24px\">\n",
              "    <g>\n",
              "        <path d=\"M19 3H5c-1.1 0-2 .9-2 2v14c0 1.1.9 2 2 2h14c1.1 0 2-.9 2-2V5c0-1.1-.9-2-2-2zM9 17H7v-7h2v7zm4 0h-2V7h2v10zm4 0h-2v-4h2v4z\"/>\n",
              "    </g>\n",
              "</svg>\n",
              "  </button>\n",
              "\n",
              "<style>\n",
              "  .colab-df-quickchart {\n",
              "      --bg-color: #E8F0FE;\n",
              "      --fill-color: #1967D2;\n",
              "      --hover-bg-color: #E2EBFA;\n",
              "      --hover-fill-color: #174EA6;\n",
              "      --disabled-fill-color: #AAA;\n",
              "      --disabled-bg-color: #DDD;\n",
              "  }\n",
              "\n",
              "  [theme=dark] .colab-df-quickchart {\n",
              "      --bg-color: #3B4455;\n",
              "      --fill-color: #D2E3FC;\n",
              "      --hover-bg-color: #434B5C;\n",
              "      --hover-fill-color: #FFFFFF;\n",
              "      --disabled-bg-color: #3B4455;\n",
              "      --disabled-fill-color: #666;\n",
              "  }\n",
              "\n",
              "  .colab-df-quickchart {\n",
              "    background-color: var(--bg-color);\n",
              "    border: none;\n",
              "    border-radius: 50%;\n",
              "    cursor: pointer;\n",
              "    display: none;\n",
              "    fill: var(--fill-color);\n",
              "    height: 32px;\n",
              "    padding: 0;\n",
              "    width: 32px;\n",
              "  }\n",
              "\n",
              "  .colab-df-quickchart:hover {\n",
              "    background-color: var(--hover-bg-color);\n",
              "    box-shadow: 0 1px 2px rgba(60, 64, 67, 0.3), 0 1px 3px 1px rgba(60, 64, 67, 0.15);\n",
              "    fill: var(--button-hover-fill-color);\n",
              "  }\n",
              "\n",
              "  .colab-df-quickchart-complete:disabled,\n",
              "  .colab-df-quickchart-complete:disabled:hover {\n",
              "    background-color: var(--disabled-bg-color);\n",
              "    fill: var(--disabled-fill-color);\n",
              "    box-shadow: none;\n",
              "  }\n",
              "\n",
              "  .colab-df-spinner {\n",
              "    border: 2px solid var(--fill-color);\n",
              "    border-color: transparent;\n",
              "    border-bottom-color: var(--fill-color);\n",
              "    animation:\n",
              "      spin 1s steps(1) infinite;\n",
              "  }\n",
              "\n",
              "  @keyframes spin {\n",
              "    0% {\n",
              "      border-color: transparent;\n",
              "      border-bottom-color: var(--fill-color);\n",
              "      border-left-color: var(--fill-color);\n",
              "    }\n",
              "    20% {\n",
              "      border-color: transparent;\n",
              "      border-left-color: var(--fill-color);\n",
              "      border-top-color: var(--fill-color);\n",
              "    }\n",
              "    30% {\n",
              "      border-color: transparent;\n",
              "      border-left-color: var(--fill-color);\n",
              "      border-top-color: var(--fill-color);\n",
              "      border-right-color: var(--fill-color);\n",
              "    }\n",
              "    40% {\n",
              "      border-color: transparent;\n",
              "      border-right-color: var(--fill-color);\n",
              "      border-top-color: var(--fill-color);\n",
              "    }\n",
              "    60% {\n",
              "      border-color: transparent;\n",
              "      border-right-color: var(--fill-color);\n",
              "    }\n",
              "    80% {\n",
              "      border-color: transparent;\n",
              "      border-right-color: var(--fill-color);\n",
              "      border-bottom-color: var(--fill-color);\n",
              "    }\n",
              "    90% {\n",
              "      border-color: transparent;\n",
              "      border-bottom-color: var(--fill-color);\n",
              "    }\n",
              "  }\n",
              "</style>\n",
              "\n",
              "  <script>\n",
              "    async function quickchart(key) {\n",
              "      const quickchartButtonEl =\n",
              "        document.querySelector('#' + key + ' button');\n",
              "      quickchartButtonEl.disabled = true;  // To prevent multiple clicks.\n",
              "      quickchartButtonEl.classList.add('colab-df-spinner');\n",
              "      try {\n",
              "        const charts = await google.colab.kernel.invokeFunction(\n",
              "            'suggestCharts', [key], {});\n",
              "      } catch (error) {\n",
              "        console.error('Error during call to suggestCharts:', error);\n",
              "      }\n",
              "      quickchartButtonEl.classList.remove('colab-df-spinner');\n",
              "      quickchartButtonEl.classList.add('colab-df-quickchart-complete');\n",
              "    }\n",
              "    (() => {\n",
              "      let quickchartButtonEl =\n",
              "        document.querySelector('#df-68407f2c-ce6c-4b0f-b1b5-1c0480b17218 button');\n",
              "      quickchartButtonEl.style.display =\n",
              "        google.colab.kernel.accessAllowed ? 'block' : 'none';\n",
              "    })();\n",
              "  </script>\n",
              "</div>\n",
              "\n",
              "    </div>\n",
              "  </div>\n"
            ],
            "text/plain": [
              "     rownames minority  age  gender credits    beauty  eval division native  \\\n",
              "458       459       no   32    male    more  1.231394   3.2    lower    yes   \n",
              "459       460       no   32    male    more  1.231394   4.3    upper    yes   \n",
              "460       461      yes   42  female    more  0.420400   3.3    upper     no   \n",
              "461       462      yes   42  female    more  0.420400   3.2    upper     no   \n",
              "462       463      yes   42  female  single  0.420400   4.1    lower     no   \n",
              "\n",
              "    tenure  students  allstudents  prof  \n",
              "458    yes         9           21    93  \n",
              "459    yes        52           86    93  \n",
              "460    yes        52           67    94  \n",
              "461    yes        54           66    94  \n",
              "462    yes        28           35    94  "
            ]
          },
          "execution_count": 8,
          "metadata": {},
          "output_type": "execute_result"
        }
      ],
      "source": [
        "#Tail Preview of data : Tail means the last 5 datas\n",
        "data.tail()"
      ]
    },
    {
      "cell_type": "markdown",
      "metadata": {
        "id": "iNsZYyyr9bwT"
      },
      "source": [
        "### Identify all duplicate cases using prof variable - find the unique values of the prof variables\n"
      ]
    },
    {
      "cell_type": "code",
      "execution_count": 9,
      "metadata": {
        "colab": {
          "base_uri": "https://localhost:8080/"
        },
        "id": "LnMuUdmB9bwU",
        "outputId": "787ad715-2d8d-45de-85ad-fc808718119a"
      },
      "outputs": [
        {
          "name": "stdout",
          "output_type": "stream",
          "text": [
            "[ 1  2  3  4  5  6  7  8  9 10 11 12 13 14 15 16 17 18 19 20 21 22 23 24\n",
            " 25 26 27 28 29 30 31 32 33 34 35 36 37 38 39 40 41 42 43 44 45 46 47 48\n",
            " 49 50 51 52 53 54 55 56 57 58 59 60 61 62 63 64 65 66 67 68 69 70 71 72\n",
            " 73 74 75 76 77 78 79 80 81 82 83 84 85 86 87 88 89 90 91 92 93 94]\n"
          ]
        }
      ],
      "source": [
        "unique_prof = data['prof'].unique()\n",
        "print(unique_prof)\n"
      ]
    },
    {
      "cell_type": "markdown",
      "metadata": {
        "id": "5nJ9qntD9bwU"
      },
      "source": [
        "### Print out the number of unique values in the prof variable\n"
      ]
    },
    {
      "cell_type": "code",
      "execution_count": 11,
      "metadata": {
        "colab": {
          "base_uri": "https://localhost:8080/"
        },
        "id": "Y7p4q1C59bwU",
        "outputId": "da3f4410-1033-45e2-97b7-ef84e1079051"
      },
      "outputs": [
        {
          "name": "stdout",
          "output_type": "stream",
          "text": [
            "94\n"
          ]
        }
      ],
      "source": [
        "\n",
        "print(len(unique_prof))\n"
      ]
    },
    {
      "cell_type": "markdown",
      "metadata": {
        "id": "MhuK7BY79bwU"
      },
      "source": [
        "### Using all observations, Find the average and standard deviation for age\n"
      ]
    },
    {
      "cell_type": "code",
      "execution_count": 12,
      "metadata": {
        "colab": {
          "base_uri": "https://localhost:8080/"
        },
        "id": "ovRz04HI9bwU",
        "outputId": "eb4f2314-8a2a-4c6a-980e-cdcf68316628"
      },
      "outputs": [
        {
          "name": "stdout",
          "output_type": "stream",
          "text": [
            "Average age: 48.365010799136066\n",
            "Standard deviation of age: 9.802742037864817\n"
          ]
        }
      ],
      "source": [
        "# Using all observations, Find the average and standard deviation for age\n",
        "print(\"Average age:\", data['age'].mean())\n",
        "print(\"Standard deviation of age:\", data['age'].std())\n"
      ]
    },
    {
      "cell_type": "markdown",
      "metadata": {
        "id": "7c_8ZD1s9bwU"
      },
      "source": [
        "### Repeat the analysis by first filtering the data set to include one observation for each instructor with a total number of observations restricted to 94.\n",
        "\n"
      ]
    },
    {
      "cell_type": "code",
      "execution_count": 21,
      "metadata": {
        "colab": {
          "base_uri": "https://localhost:8080/",
          "height": 206
        },
        "id": "axXAcJ2A9bwU",
        "outputId": "7a50dc2a-2082-4abc-e1ae-5883e099fd22"
      },
      "outputs": [
        {
          "data": {
            "application/vnd.google.colaboratory.intrinsic+json": {
              "summary": "{\n  \"name\": \"filtered_data\",\n  \"rows\": 94,\n  \"fields\": [\n    {\n      \"column\": \"rownames\",\n      \"properties\": {\n        \"dtype\": \"number\",\n        \"std\": 27,\n        \"min\": 1,\n        \"max\": 94,\n        \"num_unique_values\": 94,\n        \"samples\": [\n          41,\n          23,\n          56\n        ],\n        \"semantic_type\": \"\",\n        \"description\": \"\"\n      }\n    },\n    {\n      \"column\": \"minority\",\n      \"properties\": {\n        \"dtype\": \"category\",\n        \"num_unique_values\": 2,\n        \"samples\": [\n          \"no\",\n          \"yes\"\n        ],\n        \"semantic_type\": \"\",\n        \"description\": \"\"\n      }\n    },\n    {\n      \"column\": \"age\",\n      \"properties\": {\n        \"dtype\": \"number\",\n        \"std\": 10,\n        \"min\": 29,\n        \"max\": 73,\n        \"num_unique_values\": 35,\n        \"samples\": [\n          39,\n          56\n        ],\n        \"semantic_type\": \"\",\n        \"description\": \"\"\n      }\n    },\n    {\n      \"column\": \"gender\",\n      \"properties\": {\n        \"dtype\": \"category\",\n        \"num_unique_values\": 2,\n        \"samples\": [\n          \"male\",\n          \"female\"\n        ],\n        \"semantic_type\": \"\",\n        \"description\": \"\"\n      }\n    },\n    {\n      \"column\": \"credits\",\n      \"properties\": {\n        \"dtype\": \"category\",\n        \"num_unique_values\": 2,\n        \"samples\": [\n          \"single\",\n          \"more\"\n        ],\n        \"semantic_type\": \"\",\n        \"description\": \"\"\n      }\n    },\n    {\n      \"column\": \"beauty\",\n      \"properties\": {\n        \"dtype\": \"number\",\n        \"std\": 0.8275057481628272,\n        \"min\": -1.450494,\n        \"max\": 1.970023,\n        \"num_unique_values\": 94,\n        \"samples\": [\n          -0.2377786,\n          -0.7330914\n        ],\n        \"semantic_type\": \"\",\n        \"description\": \"\"\n      }\n    },\n    {\n      \"column\": \"eval\",\n      \"properties\": {\n        \"dtype\": \"number\",\n        \"std\": 0.5272325367352315,\n        \"min\": 2.2,\n        \"max\": 4.9,\n        \"num_unique_values\": 22,\n        \"samples\": [\n          4.3,\n          2.3\n        ],\n        \"semantic_type\": \"\",\n        \"description\": \"\"\n      }\n    },\n    {\n      \"column\": \"division\",\n      \"properties\": {\n        \"dtype\": \"category\",\n        \"num_unique_values\": 2,\n        \"samples\": [\n          \"lower\",\n          \"upper\"\n        ],\n        \"semantic_type\": \"\",\n        \"description\": \"\"\n      }\n    },\n    {\n      \"column\": \"native\",\n      \"properties\": {\n        \"dtype\": \"category\",\n        \"num_unique_values\": 2,\n        \"samples\": [\n          \"no\",\n          \"yes\"\n        ],\n        \"semantic_type\": \"\",\n        \"description\": \"\"\n      }\n    },\n    {\n      \"column\": \"tenure\",\n      \"properties\": {\n        \"dtype\": \"category\",\n        \"num_unique_values\": 2,\n        \"samples\": [\n          \"no\",\n          \"yes\"\n        ],\n        \"semantic_type\": \"\",\n        \"description\": \"\"\n      }\n    },\n    {\n      \"column\": \"students\",\n      \"properties\": {\n        \"dtype\": \"number\",\n        \"std\": 41,\n        \"min\": 7,\n        \"max\": 348,\n        \"num_unique_values\": 46,\n        \"samples\": [\n          59,\n          21\n        ],\n        \"semantic_type\": \"\",\n        \"description\": \"\"\n      }\n    },\n    {\n      \"column\": \"allstudents\",\n      \"properties\": {\n        \"dtype\": \"number\",\n        \"std\": 73,\n        \"min\": 11,\n        \"max\": 574,\n        \"num_unique_values\": 59,\n        \"samples\": [\n          43,\n          282\n        ],\n        \"semantic_type\": \"\",\n        \"description\": \"\"\n      }\n    },\n    {\n      \"column\": \"prof\",\n      \"properties\": {\n        \"dtype\": \"number\",\n        \"std\": 27,\n        \"min\": 1,\n        \"max\": 94,\n        \"num_unique_values\": 94,\n        \"samples\": [\n          41,\n          23\n        ],\n        \"semantic_type\": \"\",\n        \"description\": \"\"\n      }\n    }\n  ]\n}",
              "type": "dataframe",
              "variable_name": "filtered_data"
            },
            "text/html": [
              "\n",
              "  <div id=\"df-41fa7810-b755-4574-88b1-74107be362e2\" class=\"colab-df-container\">\n",
              "    <div>\n",
              "<style scoped>\n",
              "    .dataframe tbody tr th:only-of-type {\n",
              "        vertical-align: middle;\n",
              "    }\n",
              "\n",
              "    .dataframe tbody tr th {\n",
              "        vertical-align: top;\n",
              "    }\n",
              "\n",
              "    .dataframe thead th {\n",
              "        text-align: right;\n",
              "    }\n",
              "</style>\n",
              "<table border=\"1\" class=\"dataframe\">\n",
              "  <thead>\n",
              "    <tr style=\"text-align: right;\">\n",
              "      <th></th>\n",
              "      <th>rownames</th>\n",
              "      <th>minority</th>\n",
              "      <th>age</th>\n",
              "      <th>gender</th>\n",
              "      <th>credits</th>\n",
              "      <th>beauty</th>\n",
              "      <th>eval</th>\n",
              "      <th>division</th>\n",
              "      <th>native</th>\n",
              "      <th>tenure</th>\n",
              "      <th>students</th>\n",
              "      <th>allstudents</th>\n",
              "      <th>prof</th>\n",
              "    </tr>\n",
              "  </thead>\n",
              "  <tbody>\n",
              "    <tr>\n",
              "      <th>0</th>\n",
              "      <td>1</td>\n",
              "      <td>yes</td>\n",
              "      <td>36</td>\n",
              "      <td>female</td>\n",
              "      <td>more</td>\n",
              "      <td>0.289916</td>\n",
              "      <td>4.3</td>\n",
              "      <td>upper</td>\n",
              "      <td>yes</td>\n",
              "      <td>yes</td>\n",
              "      <td>24</td>\n",
              "      <td>43</td>\n",
              "      <td>1</td>\n",
              "    </tr>\n",
              "    <tr>\n",
              "      <th>1</th>\n",
              "      <td>2</td>\n",
              "      <td>no</td>\n",
              "      <td>59</td>\n",
              "      <td>male</td>\n",
              "      <td>more</td>\n",
              "      <td>-0.737732</td>\n",
              "      <td>4.5</td>\n",
              "      <td>upper</td>\n",
              "      <td>yes</td>\n",
              "      <td>yes</td>\n",
              "      <td>17</td>\n",
              "      <td>20</td>\n",
              "      <td>2</td>\n",
              "    </tr>\n",
              "    <tr>\n",
              "      <th>2</th>\n",
              "      <td>3</td>\n",
              "      <td>no</td>\n",
              "      <td>51</td>\n",
              "      <td>male</td>\n",
              "      <td>more</td>\n",
              "      <td>-0.571984</td>\n",
              "      <td>3.7</td>\n",
              "      <td>upper</td>\n",
              "      <td>yes</td>\n",
              "      <td>yes</td>\n",
              "      <td>55</td>\n",
              "      <td>55</td>\n",
              "      <td>3</td>\n",
              "    </tr>\n",
              "    <tr>\n",
              "      <th>3</th>\n",
              "      <td>4</td>\n",
              "      <td>no</td>\n",
              "      <td>40</td>\n",
              "      <td>female</td>\n",
              "      <td>more</td>\n",
              "      <td>-0.677963</td>\n",
              "      <td>4.3</td>\n",
              "      <td>upper</td>\n",
              "      <td>yes</td>\n",
              "      <td>yes</td>\n",
              "      <td>40</td>\n",
              "      <td>46</td>\n",
              "      <td>4</td>\n",
              "    </tr>\n",
              "    <tr>\n",
              "      <th>4</th>\n",
              "      <td>5</td>\n",
              "      <td>no</td>\n",
              "      <td>31</td>\n",
              "      <td>female</td>\n",
              "      <td>more</td>\n",
              "      <td>1.509794</td>\n",
              "      <td>4.4</td>\n",
              "      <td>upper</td>\n",
              "      <td>yes</td>\n",
              "      <td>yes</td>\n",
              "      <td>42</td>\n",
              "      <td>48</td>\n",
              "      <td>5</td>\n",
              "    </tr>\n",
              "  </tbody>\n",
              "</table>\n",
              "</div>\n",
              "    <div class=\"colab-df-buttons\">\n",
              "\n",
              "  <div class=\"colab-df-container\">\n",
              "    <button class=\"colab-df-convert\" onclick=\"convertToInteractive('df-41fa7810-b755-4574-88b1-74107be362e2')\"\n",
              "            title=\"Convert this dataframe to an interactive table.\"\n",
              "            style=\"display:none;\">\n",
              "\n",
              "  <svg xmlns=\"http://www.w3.org/2000/svg\" height=\"24px\" viewBox=\"0 -960 960 960\">\n",
              "    <path d=\"M120-120v-720h720v720H120Zm60-500h600v-160H180v160Zm220 220h160v-160H400v160Zm0 220h160v-160H400v160ZM180-400h160v-160H180v160Zm440 0h160v-160H620v160ZM180-180h160v-160H180v160Zm440 0h160v-160H620v160Z\"/>\n",
              "  </svg>\n",
              "    </button>\n",
              "\n",
              "  <style>\n",
              "    .colab-df-container {\n",
              "      display:flex;\n",
              "      gap: 12px;\n",
              "    }\n",
              "\n",
              "    .colab-df-convert {\n",
              "      background-color: #E8F0FE;\n",
              "      border: none;\n",
              "      border-radius: 50%;\n",
              "      cursor: pointer;\n",
              "      display: none;\n",
              "      fill: #1967D2;\n",
              "      height: 32px;\n",
              "      padding: 0 0 0 0;\n",
              "      width: 32px;\n",
              "    }\n",
              "\n",
              "    .colab-df-convert:hover {\n",
              "      background-color: #E2EBFA;\n",
              "      box-shadow: 0px 1px 2px rgba(60, 64, 67, 0.3), 0px 1px 3px 1px rgba(60, 64, 67, 0.15);\n",
              "      fill: #174EA6;\n",
              "    }\n",
              "\n",
              "    .colab-df-buttons div {\n",
              "      margin-bottom: 4px;\n",
              "    }\n",
              "\n",
              "    [theme=dark] .colab-df-convert {\n",
              "      background-color: #3B4455;\n",
              "      fill: #D2E3FC;\n",
              "    }\n",
              "\n",
              "    [theme=dark] .colab-df-convert:hover {\n",
              "      background-color: #434B5C;\n",
              "      box-shadow: 0px 1px 3px 1px rgba(0, 0, 0, 0.15);\n",
              "      filter: drop-shadow(0px 1px 2px rgba(0, 0, 0, 0.3));\n",
              "      fill: #FFFFFF;\n",
              "    }\n",
              "  </style>\n",
              "\n",
              "    <script>\n",
              "      const buttonEl =\n",
              "        document.querySelector('#df-41fa7810-b755-4574-88b1-74107be362e2 button.colab-df-convert');\n",
              "      buttonEl.style.display =\n",
              "        google.colab.kernel.accessAllowed ? 'block' : 'none';\n",
              "\n",
              "      async function convertToInteractive(key) {\n",
              "        const element = document.querySelector('#df-41fa7810-b755-4574-88b1-74107be362e2');\n",
              "        const dataTable =\n",
              "          await google.colab.kernel.invokeFunction('convertToInteractive',\n",
              "                                                    [key], {});\n",
              "        if (!dataTable) return;\n",
              "\n",
              "        const docLinkHtml = 'Like what you see? Visit the ' +\n",
              "          '<a target=\"_blank\" href=https://colab.research.google.com/notebooks/data_table.ipynb>data table notebook</a>'\n",
              "          + ' to learn more about interactive tables.';\n",
              "        element.innerHTML = '';\n",
              "        dataTable['output_type'] = 'display_data';\n",
              "        await google.colab.output.renderOutput(dataTable, element);\n",
              "        const docLink = document.createElement('div');\n",
              "        docLink.innerHTML = docLinkHtml;\n",
              "        element.appendChild(docLink);\n",
              "      }\n",
              "    </script>\n",
              "  </div>\n",
              "\n",
              "\n",
              "<div id=\"df-802acbf1-5ffa-47d0-a037-5f8d9203e97d\">\n",
              "  <button class=\"colab-df-quickchart\" onclick=\"quickchart('df-802acbf1-5ffa-47d0-a037-5f8d9203e97d')\"\n",
              "            title=\"Suggest charts\"\n",
              "            style=\"display:none;\">\n",
              "\n",
              "<svg xmlns=\"http://www.w3.org/2000/svg\" height=\"24px\"viewBox=\"0 0 24 24\"\n",
              "     width=\"24px\">\n",
              "    <g>\n",
              "        <path d=\"M19 3H5c-1.1 0-2 .9-2 2v14c0 1.1.9 2 2 2h14c1.1 0 2-.9 2-2V5c0-1.1-.9-2-2-2zM9 17H7v-7h2v7zm4 0h-2V7h2v10zm4 0h-2v-4h2v4z\"/>\n",
              "    </g>\n",
              "</svg>\n",
              "  </button>\n",
              "\n",
              "<style>\n",
              "  .colab-df-quickchart {\n",
              "      --bg-color: #E8F0FE;\n",
              "      --fill-color: #1967D2;\n",
              "      --hover-bg-color: #E2EBFA;\n",
              "      --hover-fill-color: #174EA6;\n",
              "      --disabled-fill-color: #AAA;\n",
              "      --disabled-bg-color: #DDD;\n",
              "  }\n",
              "\n",
              "  [theme=dark] .colab-df-quickchart {\n",
              "      --bg-color: #3B4455;\n",
              "      --fill-color: #D2E3FC;\n",
              "      --hover-bg-color: #434B5C;\n",
              "      --hover-fill-color: #FFFFFF;\n",
              "      --disabled-bg-color: #3B4455;\n",
              "      --disabled-fill-color: #666;\n",
              "  }\n",
              "\n",
              "  .colab-df-quickchart {\n",
              "    background-color: var(--bg-color);\n",
              "    border: none;\n",
              "    border-radius: 50%;\n",
              "    cursor: pointer;\n",
              "    display: none;\n",
              "    fill: var(--fill-color);\n",
              "    height: 32px;\n",
              "    padding: 0;\n",
              "    width: 32px;\n",
              "  }\n",
              "\n",
              "  .colab-df-quickchart:hover {\n",
              "    background-color: var(--hover-bg-color);\n",
              "    box-shadow: 0 1px 2px rgba(60, 64, 67, 0.3), 0 1px 3px 1px rgba(60, 64, 67, 0.15);\n",
              "    fill: var(--button-hover-fill-color);\n",
              "  }\n",
              "\n",
              "  .colab-df-quickchart-complete:disabled,\n",
              "  .colab-df-quickchart-complete:disabled:hover {\n",
              "    background-color: var(--disabled-bg-color);\n",
              "    fill: var(--disabled-fill-color);\n",
              "    box-shadow: none;\n",
              "  }\n",
              "\n",
              "  .colab-df-spinner {\n",
              "    border: 2px solid var(--fill-color);\n",
              "    border-color: transparent;\n",
              "    border-bottom-color: var(--fill-color);\n",
              "    animation:\n",
              "      spin 1s steps(1) infinite;\n",
              "  }\n",
              "\n",
              "  @keyframes spin {\n",
              "    0% {\n",
              "      border-color: transparent;\n",
              "      border-bottom-color: var(--fill-color);\n",
              "      border-left-color: var(--fill-color);\n",
              "    }\n",
              "    20% {\n",
              "      border-color: transparent;\n",
              "      border-left-color: var(--fill-color);\n",
              "      border-top-color: var(--fill-color);\n",
              "    }\n",
              "    30% {\n",
              "      border-color: transparent;\n",
              "      border-left-color: var(--fill-color);\n",
              "      border-top-color: var(--fill-color);\n",
              "      border-right-color: var(--fill-color);\n",
              "    }\n",
              "    40% {\n",
              "      border-color: transparent;\n",
              "      border-right-color: var(--fill-color);\n",
              "      border-top-color: var(--fill-color);\n",
              "    }\n",
              "    60% {\n",
              "      border-color: transparent;\n",
              "      border-right-color: var(--fill-color);\n",
              "    }\n",
              "    80% {\n",
              "      border-color: transparent;\n",
              "      border-right-color: var(--fill-color);\n",
              "      border-bottom-color: var(--fill-color);\n",
              "    }\n",
              "    90% {\n",
              "      border-color: transparent;\n",
              "      border-bottom-color: var(--fill-color);\n",
              "    }\n",
              "  }\n",
              "</style>\n",
              "\n",
              "  <script>\n",
              "    async function quickchart(key) {\n",
              "      const quickchartButtonEl =\n",
              "        document.querySelector('#' + key + ' button');\n",
              "      quickchartButtonEl.disabled = true;  // To prevent multiple clicks.\n",
              "      quickchartButtonEl.classList.add('colab-df-spinner');\n",
              "      try {\n",
              "        const charts = await google.colab.kernel.invokeFunction(\n",
              "            'suggestCharts', [key], {});\n",
              "      } catch (error) {\n",
              "        console.error('Error during call to suggestCharts:', error);\n",
              "      }\n",
              "      quickchartButtonEl.classList.remove('colab-df-spinner');\n",
              "      quickchartButtonEl.classList.add('colab-df-quickchart-complete');\n",
              "    }\n",
              "    (() => {\n",
              "      let quickchartButtonEl =\n",
              "        document.querySelector('#df-802acbf1-5ffa-47d0-a037-5f8d9203e97d button');\n",
              "      quickchartButtonEl.style.display =\n",
              "        google.colab.kernel.accessAllowed ? 'block' : 'none';\n",
              "    })();\n",
              "  </script>\n",
              "</div>\n",
              "\n",
              "    </div>\n",
              "  </div>\n"
            ],
            "text/plain": [
              "   rownames minority  age  gender credits    beauty  eval division native  \\\n",
              "0         1      yes   36  female    more  0.289916   4.3    upper    yes   \n",
              "1         2       no   59    male    more -0.737732   4.5    upper    yes   \n",
              "2         3       no   51    male    more -0.571984   3.7    upper    yes   \n",
              "3         4       no   40  female    more -0.677963   4.3    upper    yes   \n",
              "4         5       no   31  female    more  1.509794   4.4    upper    yes   \n",
              "\n",
              "  tenure  students  allstudents  prof  \n",
              "0    yes        24           43     1  \n",
              "1    yes        17           20     2  \n",
              "2    yes        55           55     3  \n",
              "3    yes        40           46     4  \n",
              "4    yes        42           48     5  "
            ]
          },
          "execution_count": 21,
          "metadata": {},
          "output_type": "execute_result"
        }
      ],
      "source": [
        "# Filter the dataset to include one observation per instructor\n",
        "filtered_data = data.drop_duplicates(subset='prof')\n",
        "\n",
        "# Restrict the number of observations to 94\n",
        "filtered_data = filtered_data.head(94)\n",
        "\n",
        "filtered_data.head()\n"
      ]
    },
    {
      "cell_type": "code",
      "execution_count": 20,
      "metadata": {
        "colab": {
          "base_uri": "https://localhost:8080/"
        },
        "id": "iLa_ZU5vAFJN",
        "outputId": "e4591c3d-d8b4-4e59-f732-aab7ad39aa41"
      },
      "outputs": [
        {
          "name": "stdout",
          "output_type": "stream",
          "text": [
            "<class 'pandas.core.frame.DataFrame'>\n",
            "Index: 94 entries, 0 to 93\n",
            "Data columns (total 13 columns):\n",
            " #   Column       Non-Null Count  Dtype  \n",
            "---  ------       --------------  -----  \n",
            " 0   rownames     94 non-null     int64  \n",
            " 1   minority     94 non-null     object \n",
            " 2   age          94 non-null     int64  \n",
            " 3   gender       94 non-null     object \n",
            " 4   credits      94 non-null     object \n",
            " 5   beauty       94 non-null     float64\n",
            " 6   eval         94 non-null     float64\n",
            " 7   division     94 non-null     object \n",
            " 8   native       94 non-null     object \n",
            " 9   tenure       94 non-null     object \n",
            " 10  students     94 non-null     int64  \n",
            " 11  allstudents  94 non-null     int64  \n",
            " 12  prof         94 non-null     int64  \n",
            "dtypes: float64(2), int64(5), object(6)\n",
            "memory usage: 10.3+ KB\n"
          ]
        }
      ],
      "source": [
        "filtered_data.info()"
      ]
    },
    {
      "cell_type": "markdown",
      "metadata": {
        "id": "HvKdle_m9bwU"
      },
      "source": [
        "##### Use the new dataset to get the mean and  SD of age\n"
      ]
    },
    {
      "cell_type": "code",
      "execution_count": 14,
      "metadata": {
        "colab": {
          "base_uri": "https://localhost:8080/"
        },
        "id": "ws6O0OCc9bwU",
        "outputId": "78e63b79-d55b-4d69-e2f4-3c864028a0be"
      },
      "outputs": [
        {
          "name": "stdout",
          "output_type": "stream",
          "text": [
            "Average age (filtered): 47.5531914893617\n",
            "Standard deviation of age (filtered): 10.25651329515495\n"
          ]
        }
      ],
      "source": [
        "# Calculate the average and standard deviation of age for the filtered dataset\n",
        "print(\"Average age (filtered):\", filtered_data['age'].mean())\n",
        "print(\"Standard deviation of age (filtered):\", filtered_data['age'].std())\n"
      ]
    },
    {
      "cell_type": "markdown",
      "metadata": {
        "id": "WAh15GDc9bwU"
      },
      "source": [
        "### Using a bar chart, demonstrate if instructors teaching lower-division courses receive higher average teaching evaluations.\n"
      ]
    },
    {
      "cell_type": "markdown",
      "metadata": {
        "id": "a_iexL_I9bwU"
      },
      "source": [
        "Find the average teaching evaluation in both groups of upper and lower-division\n"
      ]
    },
    {
      "cell_type": "markdown",
      "metadata": {
        "id": "_VhQRKvJ9bwU"
      },
      "source": [
        "Plot the barplot\n"
      ]
    },
    {
      "cell_type": "code",
      "execution_count": 22,
      "metadata": {
        "colab": {
          "base_uri": "https://localhost:8080/",
          "height": 472
        },
        "id": "VTxgC3f49bwV",
        "outputId": "42da9456-728b-4d04-e480-a6bf21e821f1"
      },
      "outputs": [
        {
          "data": {
            "image/png": "[encoded data removed]",
            "text/plain": [
              "<Figure size 640x480 with 1 Axes>"
            ]
          },
          "metadata": {},
          "output_type": "display_data"
        }
      ],
      "source": [
        "# Find the average teaching evaluation in both groups of upper and lower-division\n",
        "\n",
        "# Calculate the average teaching evaluation for lower-division courses\n",
        "lower_division_mean = data[data['division'] == 'lower']['eval'].mean()\n",
        "\n",
        "# Calculate the average teaching evaluation for upper-division courses\n",
        "upper_division_mean = data[data['division'] == 'upper']['eval'].mean()\n",
        "\n",
        "# Create a bar chart\n",
        "plt.bar(['Lower Division', 'Upper Division'], [lower_division_mean, upper_division_mean])\n",
        "plt.xlabel('Division')\n",
        "plt.ylabel('Average Teaching Evaluation')\n",
        "plt.title('Average Teaching Evaluations by Division')\n",
        "plt.show()\n"
      ]
    },
    {
      "cell_type": "markdown",
      "metadata": {
        "id": "0scPwN529bwV"
      },
      "source": [
        "### Using gender-differentiated scatter plots, plot the relationship between age and teaching evaluation scores."
      ]
    },
    {
      "cell_type": "code",
      "execution_count": 23,
      "metadata": {
        "colab": {
          "base_uri": "https://localhost:8080/",
          "height": 564
        },
        "id": "88ZFYARJ9bwV",
        "outputId": "8ebdb679-5fbd-4a04-bdf1-e8a653aed7e1"
      },
      "outputs": [
        {
          "data": {
            "image/png": "[encoded data removed]",
            "text/plain": [
              "<Figure size 1000x600 with 1 Axes>"
            ]
          },
          "metadata": {},
          "output_type": "display_data"
        }
      ],
      "source": [
        "# Create separate DataFrames for male and female instructors\n",
        "male_instructors = data[data['gender'] == 'male']\n",
        "female_instructors = data[data['gender'] == 'female']\n",
        "\n",
        "# Create scatter plots for male and female instructors\n",
        "plt.figure(figsize=(10, 6))\n",
        "\n",
        "plt.scatter(male_instructors['age'], male_instructors['eval'], label='Male', alpha=0.7)\n",
        "plt.scatter(female_instructors['age'], female_instructors['eval'], label='Female', alpha=0.7)\n",
        "\n",
        "plt.xlabel('Age')\n",
        "plt.ylabel('Teaching Evaluation Score')\n",
        "plt.title('Relationship between Age and Teaching Evaluation Scores by Gender')\n",
        "plt.legend()\n",
        "plt.grid(True)\n",
        "plt.show()\n"
      ]
    },
    {
      "cell_type": "markdown",
      "metadata": {
        "id": "brkXc5YH9bwV"
      },
      "source": [
        "### What is the number of courses taught by gender?\n",
        "\n"
      ]
    },
    {
      "cell_type": "code",
      "execution_count": 26,
      "metadata": {
        "colab": {
          "base_uri": "https://localhost:8080/"
        },
        "id": "mUBCxDxg9bwV",
        "outputId": "2e97b90d-4bce-4348-e01b-9d2f5febb6da"
      },
      "outputs": [
        {
          "name": "stdout",
          "output_type": "stream",
          "text": [
            "gender\n",
            "female    195\n",
            "male      268\n",
            "Name: division, dtype: int64\n"
          ]
        }
      ],
      "source": [
        "# Group the data by gender and count the number of courses\n",
        "courses_by_gender = data.groupby('gender')['division'].count()\n",
        "\n",
        "# Print the results\n",
        "print(courses_by_gender)\n"
      ]
    },
    {
      "cell_type": "markdown",
      "metadata": {
        "id": "hEUTlGEC9bwV"
      },
      "source": [
        "### Create a group histogram of taught by gender and tenure\n"
      ]
    },
    {
      "cell_type": "code",
      "execution_count": 27,
      "metadata": {
        "colab": {
          "base_uri": "https://localhost:8080/",
          "height": 598
        },
        "id": "EphRzc409bwV",
        "outputId": "375162ab-d88d-497c-9301-1e44eaffecca"
      },
      "outputs": [
        {
          "data": {
            "image/png": "[encoded data removed]",
            "text/plain": [
              "<Figure size 1000x600 with 1 Axes>"
            ]
          },
          "metadata": {},
          "output_type": "display_data"
        }
      ],
      "source": [
        "# Group the data by gender and tenure, then count the number of courses\n",
        "courses_by_gender_tenure = data.groupby(['gender', 'tenure'])['division'].count().unstack()\n",
        "\n",
        "# Create a grouped histogram\n",
        "courses_by_gender_tenure.plot(kind='bar', figsize=(10, 6))\n",
        "plt.xlabel('Gender')\n",
        "plt.ylabel('Number of Courses')\n",
        "plt.title('Number of Courses Taught by Gender and Tenure')\n",
        "plt.legend(title='Tenure')\n",
        "plt.show()\n"
      ]
    },
    {
      "cell_type": "markdown",
      "metadata": {
        "id": "aVoFvraq9bwV"
      },
      "source": [
        "### Does age affect teaching evaluation scores?\n"
      ]
    },
    {
      "cell_type": "code",
      "execution_count": 28,
      "metadata": {
        "colab": {
          "base_uri": "https://localhost:8080/",
          "height": 1000
        },
        "id": "tszWTmc69bwV",
        "outputId": "d32516bc-533b-4d10-a3e8-791431ed3c7f"
      },
      "outputs": [
        {
          "name": "stdout",
          "output_type": "stream",
          "text": [
            "Correlation between age and teaching evaluation scores: -0.051696190877182864\n"
          ]
        },
        {
          "data": {
            "image/png": "[encoded data removed]",
            "text/plain": [
              "<Figure size 1000x600 with 1 Axes>"
            ]
          },
          "metadata": {},
          "output_type": "display_data"
        },
        {
          "name": "stdout",
          "output_type": "stream",
          "text": [
            "                            OLS Regression Results                            \n",
            "==============================================================================\n",
            "Dep. Variable:                   eval   R-squared:                       0.003\n",
            "Model:                            OLS   Adj. R-squared:                  0.001\n",
            "Method:                 Least Squares   F-statistic:                     1.235\n",
            "Date:                Fri, 09 Aug 2024   Prob (F-statistic):              0.267\n",
            "Time:                        07:21:20   Log-Likelihood:                -383.13\n",
            "No. Observations:                 463   AIC:                             770.3\n",
            "Df Residuals:                     461   BIC:                             778.5\n",
            "Df Model:                           1                                         \n",
            "Covariance Type:            nonrobust                                         \n",
            "==============================================================================\n",
            "                 coef    std err          t      P>|t|      [0.025      0.975]\n",
            "------------------------------------------------------------------------------\n",
            "const          4.1398      0.130     31.865      0.000       3.884       4.395\n",
            "age           -0.0029      0.003     -1.111      0.267      -0.008       0.002\n",
            "==============================================================================\n",
            "Omnibus:                       14.980   Durbin-Watson:                   1.344\n",
            "Prob(Omnibus):                  0.001   Jarque-Bera (JB):               15.952\n",
            "Skew:                          -0.449   Prob(JB):                     0.000344\n",
            "Kurtosis:                       2.857   Cond. No.                         249.\n",
            "==============================================================================\n",
            "\n",
            "Notes:\n",
            "[1] Standard Errors assume that the covariance matrix of the errors is correctly specified.\n"
          ]
        }
      ],
      "source": [
        "# Calculate the correlation coefficient between age and teaching evaluation scores\n",
        "correlation = data['age'].corr(data['eval'])\n",
        "\n",
        "print(\"Correlation between age and teaching evaluation scores:\", correlation)\n",
        "\n",
        "# Create a scatter plot to visualize the relationship\n",
        "plt.figure(figsize=(10, 6))\n",
        "sns.scatterplot(x='age', y='eval', data=data)\n",
        "plt.xlabel('Age')\n",
        "plt.ylabel('Teaching Evaluation Score')\n",
        "plt.title('Relationship between Age and Teaching Evaluation Scores')\n",
        "plt.grid(True)\n",
        "plt.show()\n",
        "\n",
        "# Perform a simple linear regression to model the relationship\n",
        "import statsmodels.api as sm\n",
        "\n",
        "X = data['age']\n",
        "y = data['eval']\n",
        "X = sm.add_constant(X)  # Add a constant to the model\n",
        "\n",
        "model = sm.OLS(y, X).fit()\n",
        "print(model.summary())\n"
      ]
    },
    {
      "cell_type": "markdown",
      "metadata": {
        "id": "XEsRmrMA9bwV"
      },
      "source": [
        "#### Calculate the percentage of visible minorities are tenure professors. Will you say that tenure status differed if teacher was a visible minority?"
      ]
    },
    {
      "cell_type": "code",
      "execution_count": 29,
      "metadata": {
        "colab": {
          "base_uri": "https://localhost:8080/"
        },
        "id": "ndIlZagS9bwV",
        "outputId": "74e28df2-9fbd-49bc-b571-43c9fe6aea92"
      },
      "outputs": [
        {
          "name": "stdout",
          "output_type": "stream",
          "text": [
            "Percentage of visible minorities who are tenure professors: 84.375\n",
            "Percentage of non-visible minorities who are tenure professors: 76.94235588972431\n",
            "Tenure status appears to differ based on whether the teacher is a visible minority.\n"
          ]
        }
      ],
      "source": [
        "# Calculate the percentage of visible minorities who are tenure professors\n",
        "visible_minority_tenure = data[(data['minority'] == 'yes') & (data['tenure'] == 'yes')].shape[0]\n",
        "visible_minority_total = data[data['minority'] == 'yes'].shape[0]\n",
        "percentage_visible_minority_tenure = (visible_minority_tenure / visible_minority_total) * 100\n",
        "\n",
        "print(\"Percentage of visible minorities who are tenure professors:\", percentage_visible_minority_tenure)\n",
        "\n",
        "# Calculate the percentage of non-visible minorities who are tenure professors\n",
        "non_visible_minority_tenure = data[(data['minority'] == 'no') & (data['tenure'] == 'yes')].shape[0]\n",
        "non_visible_minority_total = data[data['minority'] == 'no'].shape[0]\n",
        "percentage_non_visible_minority_tenure = (non_visible_minority_tenure / non_visible_minority_total) * 100\n",
        "\n",
        "print(\"Percentage of non-visible minorities who are tenure professors:\", percentage_non_visible_minority_tenure)\n",
        "\n",
        "# Compare the percentages\n",
        "if percentage_visible_minority_tenure != percentage_non_visible_minority_tenure:\n",
        "  print(\"Tenure status appears to differ based on whether the teacher is a visible minority.\")\n",
        "else:\n",
        "  print(\"Tenure status does not appear to differ based on whether the teacher is a visible minority.\")\n"
      ]
    },
    {
      "cell_type": "markdown",
      "metadata": {
        "id": "61dIYJC-9bwV"
      },
      "source": [
        "#### Does average age differ by tenure? Produce the means and standard deviations for both tenured and untenured professors."
      ]
    },
    {
      "cell_type": "code",
      "execution_count": 30,
      "metadata": {
        "colab": {
          "base_uri": "https://localhost:8080/"
        },
        "id": "IXqkUgsE9bwW",
        "outputId": "e29b7afe-f2ac-497a-bdc4-eca86e22ba26"
      },
      "outputs": [
        {
          "name": "stdout",
          "output_type": "stream",
          "text": [
            "Average age of tenured professors: 47.850415512465375\n",
            "Standard deviation of age for tenured professors: 10.420055773692855\n",
            "\n",
            "Average age of untenured professors: 50.18627450980392\n",
            "Standard deviation of age for untenured professors: 6.946372216733221\n"
          ]
        }
      ],
      "source": [
        "# Calculate the average and standard deviation of age for tenured professors\n",
        "tenured_age_mean = data[data['tenure'] == 'yes']['age'].mean()\n",
        "tenured_age_std = data[data['tenure'] == 'yes']['age'].std()\n",
        "\n",
        "# Calculate the average and standard deviation of age for untenured professors\n",
        "untenured_age_mean = data[data['tenure'] == 'no']['age'].mean()\n",
        "untenured_age_std = data[data['tenure'] == 'no']['age'].std()\n",
        "\n",
        "# Print the results\n",
        "print(\"Average age of tenured professors:\", tenured_age_mean)\n",
        "print(\"Standard deviation of age for tenured professors:\", tenured_age_std)\n",
        "\n",
        "print(\"\\nAverage age of untenured professors:\", untenured_age_mean)\n",
        "print(\"Standard deviation of age for untenured professors:\", untenured_age_std)\n"
      ]
    },
    {
      "cell_type": "markdown",
      "metadata": {
        "id": "V42AcAh-BAqE"
      },
      "source": [
        "# **CODE BY ADITYA KUMAR (UI22CS03)**"
      ]
    }
  ],
  "metadata": {
    "colab": {
      "provenance": []
    },
    "kernelspec": {
      "display_name": "Python 3",
      "language": "python",
      "name": "python3"
    },
    "language_info": {
      "codemirror_mode": {
        "name": "ipython",
        "version": 3
      },
      "file_extension": ".py",
      "mimetype": "text/x-python",
      "name": "python",
      "nbconvert_exporter": "python",
      "pygments_lexer": "ipython3",
      "version": "3.7.4"
    }
  },
  "nbformat": 4,
  "nbformat_minor": 0
}
